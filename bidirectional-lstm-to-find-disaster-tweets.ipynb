{
 "cells": [
  {
   "cell_type": "code",
   "execution_count": 1,
   "id": "56e7747c",
   "metadata": {
    "_cell_guid": "b1076dfc-b9ad-4769-8c92-a6c4dae69d19",
    "_uuid": "8f2839f25d086af736a60e9eeb907d3b93b6e0e5",
    "execution": {
     "iopub.execute_input": "2024-12-08T17:34:44.328299Z",
     "iopub.status.busy": "2024-12-08T17:34:44.327915Z",
     "iopub.status.idle": "2024-12-08T17:34:45.200144Z",
     "shell.execute_reply": "2024-12-08T17:34:45.198874Z"
    },
    "papermill": {
     "duration": 0.884532,
     "end_time": "2024-12-08T17:34:45.202835",
     "exception": false,
     "start_time": "2024-12-08T17:34:44.318303",
     "status": "completed"
    },
    "tags": []
   },
   "outputs": [
    {
     "name": "stdout",
     "output_type": "stream",
     "text": [
      "/kaggle/input/nlp-getting-started/sample_submission.csv\n",
      "/kaggle/input/nlp-getting-started/train.csv\n",
      "/kaggle/input/nlp-getting-started/test.csv\n"
     ]
    }
   ],
   "source": [
    "# This Python 3 environment comes with many helpful analytics libraries installed\n",
    "# It is defined by the kaggle/python Docker image: https://github.com/kaggle/docker-python\n",
    "# For example, here's several helpful packages to load\n",
    "\n",
    "import numpy as np # linear algebra\n",
    "import pandas as pd # data processing, CSV file I/O (e.g. pd.read_csv)\n",
    "\n",
    "# Input data files are available in the read-only \"../input/\" directory\n",
    "# For example, running this (by clicking run or pressing Shift+Enter) will list all files under the input directory\n",
    "\n",
    "import os\n",
    "for dirname, _, filenames in os.walk('/kaggle/input'):\n",
    "    for filename in filenames:\n",
    "        print(os.path.join(dirname, filename))\n",
    "\n",
    "# You can write up to 20GB to the current directory (/kaggle/working/) that gets preserved as output when you create a version using \"Save & Run All\" \n",
    "# You can also write temporary files to /kaggle/temp/, but they won't be saved outside of the current session"
   ]
  },
  {
   "cell_type": "markdown",
   "id": "fea24355",
   "metadata": {
    "papermill": {
     "duration": 0.006628,
     "end_time": "2024-12-08T17:34:45.216711",
     "exception": false,
     "start_time": "2024-12-08T17:34:45.210083",
     "status": "completed"
    },
    "tags": []
   },
   "source": [
    "# 1. Load Data"
   ]
  },
  {
   "cell_type": "code",
   "execution_count": 2,
   "id": "46d4b8a1",
   "metadata": {
    "execution": {
     "iopub.execute_input": "2024-12-08T17:34:45.231971Z",
     "iopub.status.busy": "2024-12-08T17:34:45.231444Z",
     "iopub.status.idle": "2024-12-08T17:34:45.238391Z",
     "shell.execute_reply": "2024-12-08T17:34:45.236477Z"
    },
    "papermill": {
     "duration": 0.017464,
     "end_time": "2024-12-08T17:34:45.240786",
     "exception": false,
     "start_time": "2024-12-08T17:34:45.223322",
     "status": "completed"
    },
    "tags": []
   },
   "outputs": [
    {
     "name": "stdout",
     "output_type": "stream",
     "text": [
      "/kaggle/working\n"
     ]
    }
   ],
   "source": [
    "import os\n",
    "print(os.getcwd())"
   ]
  },
  {
   "cell_type": "code",
   "execution_count": 3,
   "id": "f76f9bdb",
   "metadata": {
    "execution": {
     "iopub.execute_input": "2024-12-08T17:34:45.257400Z",
     "iopub.status.busy": "2024-12-08T17:34:45.256485Z",
     "iopub.status.idle": "2024-12-08T17:34:45.275049Z",
     "shell.execute_reply": "2024-12-08T17:34:45.273976Z"
    },
    "papermill": {
     "duration": 0.029699,
     "end_time": "2024-12-08T17:34:45.277497",
     "exception": false,
     "start_time": "2024-12-08T17:34:45.247798",
     "status": "completed"
    },
    "tags": []
   },
   "outputs": [],
   "source": [
    "sample = pd.read_csv('/kaggle/input/nlp-getting-started/sample_submission.csv')"
   ]
  },
  {
   "cell_type": "code",
   "execution_count": 4,
   "id": "9ee4e69c",
   "metadata": {
    "execution": {
     "iopub.execute_input": "2024-12-08T17:34:45.293410Z",
     "iopub.status.busy": "2024-12-08T17:34:45.292554Z",
     "iopub.status.idle": "2024-12-08T17:34:45.311819Z",
     "shell.execute_reply": "2024-12-08T17:34:45.310622Z"
    },
    "papermill": {
     "duration": 0.02989,
     "end_time": "2024-12-08T17:34:45.314346",
     "exception": false,
     "start_time": "2024-12-08T17:34:45.284456",
     "status": "completed"
    },
    "tags": []
   },
   "outputs": [
    {
     "data": {
      "text/html": [
       "<div>\n",
       "<style scoped>\n",
       "    .dataframe tbody tr th:only-of-type {\n",
       "        vertical-align: middle;\n",
       "    }\n",
       "\n",
       "    .dataframe tbody tr th {\n",
       "        vertical-align: top;\n",
       "    }\n",
       "\n",
       "    .dataframe thead th {\n",
       "        text-align: right;\n",
       "    }\n",
       "</style>\n",
       "<table border=\"1\" class=\"dataframe\">\n",
       "  <thead>\n",
       "    <tr style=\"text-align: right;\">\n",
       "      <th></th>\n",
       "      <th>id</th>\n",
       "      <th>target</th>\n",
       "    </tr>\n",
       "  </thead>\n",
       "  <tbody>\n",
       "    <tr>\n",
       "      <th>0</th>\n",
       "      <td>0</td>\n",
       "      <td>0</td>\n",
       "    </tr>\n",
       "    <tr>\n",
       "      <th>1</th>\n",
       "      <td>2</td>\n",
       "      <td>0</td>\n",
       "    </tr>\n",
       "    <tr>\n",
       "      <th>2</th>\n",
       "      <td>3</td>\n",
       "      <td>0</td>\n",
       "    </tr>\n",
       "    <tr>\n",
       "      <th>3</th>\n",
       "      <td>9</td>\n",
       "      <td>0</td>\n",
       "    </tr>\n",
       "    <tr>\n",
       "      <th>4</th>\n",
       "      <td>11</td>\n",
       "      <td>0</td>\n",
       "    </tr>\n",
       "  </tbody>\n",
       "</table>\n",
       "</div>"
      ],
      "text/plain": [
       "   id  target\n",
       "0   0       0\n",
       "1   2       0\n",
       "2   3       0\n",
       "3   9       0\n",
       "4  11       0"
      ]
     },
     "execution_count": 4,
     "metadata": {},
     "output_type": "execute_result"
    }
   ],
   "source": [
    "sample.head()"
   ]
  },
  {
   "cell_type": "code",
   "execution_count": 5,
   "id": "c9247dec",
   "metadata": {
    "execution": {
     "iopub.execute_input": "2024-12-08T17:34:45.330097Z",
     "iopub.status.busy": "2024-12-08T17:34:45.329324Z",
     "iopub.status.idle": "2024-12-08T17:34:45.398945Z",
     "shell.execute_reply": "2024-12-08T17:34:45.397913Z"
    },
    "papermill": {
     "duration": 0.080204,
     "end_time": "2024-12-08T17:34:45.401387",
     "exception": false,
     "start_time": "2024-12-08T17:34:45.321183",
     "status": "completed"
    },
    "tags": []
   },
   "outputs": [],
   "source": [
    "train = pd.read_csv('../input/nlp-getting-started/train.csv')\n",
    "test = pd.read_csv('../input/nlp-getting-started/test.csv')"
   ]
  },
  {
   "cell_type": "markdown",
   "id": "95e465b0",
   "metadata": {
    "papermill": {
     "duration": 0.006847,
     "end_time": "2024-12-08T17:34:45.415540",
     "exception": false,
     "start_time": "2024-12-08T17:34:45.408693",
     "status": "completed"
    },
    "tags": []
   },
   "source": [
    "# 2. Exploratory Data Analysis"
   ]
  },
  {
   "cell_type": "code",
   "execution_count": 6,
   "id": "5283091f",
   "metadata": {
    "execution": {
     "iopub.execute_input": "2024-12-08T17:34:45.432344Z",
     "iopub.status.busy": "2024-12-08T17:34:45.431267Z",
     "iopub.status.idle": "2024-12-08T17:34:45.442581Z",
     "shell.execute_reply": "2024-12-08T17:34:45.441301Z"
    },
    "papermill": {
     "duration": 0.021947,
     "end_time": "2024-12-08T17:34:45.444858",
     "exception": false,
     "start_time": "2024-12-08T17:34:45.422911",
     "status": "completed"
    },
    "tags": []
   },
   "outputs": [
    {
     "data": {
      "text/html": [
       "<div>\n",
       "<style scoped>\n",
       "    .dataframe tbody tr th:only-of-type {\n",
       "        vertical-align: middle;\n",
       "    }\n",
       "\n",
       "    .dataframe tbody tr th {\n",
       "        vertical-align: top;\n",
       "    }\n",
       "\n",
       "    .dataframe thead th {\n",
       "        text-align: right;\n",
       "    }\n",
       "</style>\n",
       "<table border=\"1\" class=\"dataframe\">\n",
       "  <thead>\n",
       "    <tr style=\"text-align: right;\">\n",
       "      <th></th>\n",
       "      <th>id</th>\n",
       "      <th>keyword</th>\n",
       "      <th>location</th>\n",
       "      <th>text</th>\n",
       "      <th>target</th>\n",
       "    </tr>\n",
       "  </thead>\n",
       "  <tbody>\n",
       "    <tr>\n",
       "      <th>0</th>\n",
       "      <td>1</td>\n",
       "      <td>NaN</td>\n",
       "      <td>NaN</td>\n",
       "      <td>Our Deeds are the Reason of this #earthquake M...</td>\n",
       "      <td>1</td>\n",
       "    </tr>\n",
       "    <tr>\n",
       "      <th>1</th>\n",
       "      <td>4</td>\n",
       "      <td>NaN</td>\n",
       "      <td>NaN</td>\n",
       "      <td>Forest fire near La Ronge Sask. Canada</td>\n",
       "      <td>1</td>\n",
       "    </tr>\n",
       "    <tr>\n",
       "      <th>2</th>\n",
       "      <td>5</td>\n",
       "      <td>NaN</td>\n",
       "      <td>NaN</td>\n",
       "      <td>All residents asked to 'shelter in place' are ...</td>\n",
       "      <td>1</td>\n",
       "    </tr>\n",
       "    <tr>\n",
       "      <th>3</th>\n",
       "      <td>6</td>\n",
       "      <td>NaN</td>\n",
       "      <td>NaN</td>\n",
       "      <td>13,000 people receive #wildfires evacuation or...</td>\n",
       "      <td>1</td>\n",
       "    </tr>\n",
       "    <tr>\n",
       "      <th>4</th>\n",
       "      <td>7</td>\n",
       "      <td>NaN</td>\n",
       "      <td>NaN</td>\n",
       "      <td>Just got sent this photo from Ruby #Alaska as ...</td>\n",
       "      <td>1</td>\n",
       "    </tr>\n",
       "  </tbody>\n",
       "</table>\n",
       "</div>"
      ],
      "text/plain": [
       "   id keyword location                                               text  \\\n",
       "0   1     NaN      NaN  Our Deeds are the Reason of this #earthquake M...   \n",
       "1   4     NaN      NaN             Forest fire near La Ronge Sask. Canada   \n",
       "2   5     NaN      NaN  All residents asked to 'shelter in place' are ...   \n",
       "3   6     NaN      NaN  13,000 people receive #wildfires evacuation or...   \n",
       "4   7     NaN      NaN  Just got sent this photo from Ruby #Alaska as ...   \n",
       "\n",
       "   target  \n",
       "0       1  \n",
       "1       1  \n",
       "2       1  \n",
       "3       1  \n",
       "4       1  "
      ]
     },
     "execution_count": 6,
     "metadata": {},
     "output_type": "execute_result"
    }
   ],
   "source": [
    "train.head()"
   ]
  },
  {
   "cell_type": "code",
   "execution_count": 7,
   "id": "ba8f4651",
   "metadata": {
    "execution": {
     "iopub.execute_input": "2024-12-08T17:34:45.461254Z",
     "iopub.status.busy": "2024-12-08T17:34:45.460437Z",
     "iopub.status.idle": "2024-12-08T17:34:45.466624Z",
     "shell.execute_reply": "2024-12-08T17:34:45.465559Z"
    },
    "papermill": {
     "duration": 0.017006,
     "end_time": "2024-12-08T17:34:45.469170",
     "exception": false,
     "start_time": "2024-12-08T17:34:45.452164",
     "status": "completed"
    },
    "tags": []
   },
   "outputs": [
    {
     "name": "stdout",
     "output_type": "stream",
     "text": [
      "7613\n",
      "3263\n",
      "3263\n",
      "RangeIndex(start=0, stop=7613, step=1) RangeIndex(start=0, stop=3263, step=1)\n",
      "Index(['id', 'keyword', 'location', 'text', 'target'], dtype='object') Index(['id', 'keyword', 'location', 'text'], dtype='object')\n"
     ]
    }
   ],
   "source": [
    "print(len(train))\n",
    "print(len(test))\n",
    "print(len(sample))\n",
    "print(train.index, test.index)\n",
    "print(train.columns, test.columns)"
   ]
  },
  {
   "cell_type": "code",
   "execution_count": 8,
   "id": "7a70eb66",
   "metadata": {
    "execution": {
     "iopub.execute_input": "2024-12-08T17:34:45.485234Z",
     "iopub.status.busy": "2024-12-08T17:34:45.484897Z",
     "iopub.status.idle": "2024-12-08T17:34:45.509604Z",
     "shell.execute_reply": "2024-12-08T17:34:45.508346Z"
    },
    "papermill": {
     "duration": 0.035274,
     "end_time": "2024-12-08T17:34:45.511849",
     "exception": false,
     "start_time": "2024-12-08T17:34:45.476575",
     "status": "completed"
    },
    "tags": []
   },
   "outputs": [
    {
     "name": "stdout",
     "output_type": "stream",
     "text": [
      "157\n",
      "7\n",
      "text\n",
      "136    401\n",
      "139    275\n",
      "138    256\n",
      "140    218\n",
      "137    210\n",
      "      ... \n",
      "150      2\n",
      "149      1\n",
      "157      1\n",
      "151      1\n",
      "152      1\n",
      "Name: count, Length: 147, dtype: int64\n"
     ]
    }
   ],
   "source": [
    "print(train['text'].str.len().max())\n",
    "print(train['text'].str.len().min())\n",
    "print(train['text'].str.len().value_counts())\n"
   ]
  },
  {
   "cell_type": "code",
   "execution_count": 9,
   "id": "bdb1573a",
   "metadata": {
    "execution": {
     "iopub.execute_input": "2024-12-08T17:34:45.527957Z",
     "iopub.status.busy": "2024-12-08T17:34:45.527604Z",
     "iopub.status.idle": "2024-12-08T17:34:45.534671Z",
     "shell.execute_reply": "2024-12-08T17:34:45.533357Z"
    },
    "papermill": {
     "duration": 0.017502,
     "end_time": "2024-12-08T17:34:45.536650",
     "exception": false,
     "start_time": "2024-12-08T17:34:45.519148",
     "status": "completed"
    },
    "tags": []
   },
   "outputs": [
    {
     "name": "stdout",
     "output_type": "stream",
     "text": [
      "7613\n"
     ]
    }
   ],
   "source": [
    "print(train['keyword'].isna().count())"
   ]
  },
  {
   "cell_type": "code",
   "execution_count": 10,
   "id": "32a9bcf9",
   "metadata": {
    "execution": {
     "iopub.execute_input": "2024-12-08T17:34:45.552681Z",
     "iopub.status.busy": "2024-12-08T17:34:45.552307Z",
     "iopub.status.idle": "2024-12-08T17:34:45.558037Z",
     "shell.execute_reply": "2024-12-08T17:34:45.557004Z"
    },
    "papermill": {
     "duration": 0.016305,
     "end_time": "2024-12-08T17:34:45.560258",
     "exception": false,
     "start_time": "2024-12-08T17:34:45.543953",
     "status": "completed"
    },
    "tags": []
   },
   "outputs": [],
   "source": [
    "train_x = np.array(train['text'])\n",
    "train_y = np.array(train['target'])\n",
    "test_x = np.array(test['text'])"
   ]
  },
  {
   "cell_type": "code",
   "execution_count": 11,
   "id": "ef8bf66b",
   "metadata": {
    "execution": {
     "iopub.execute_input": "2024-12-08T17:34:45.577441Z",
     "iopub.status.busy": "2024-12-08T17:34:45.577051Z",
     "iopub.status.idle": "2024-12-08T17:34:45.583220Z",
     "shell.execute_reply": "2024-12-08T17:34:45.582050Z"
    },
    "papermill": {
     "duration": 0.017389,
     "end_time": "2024-12-08T17:34:45.585210",
     "exception": false,
     "start_time": "2024-12-08T17:34:45.567821",
     "status": "completed"
    },
    "tags": []
   },
   "outputs": [
    {
     "name": "stdout",
     "output_type": "stream",
     "text": [
      "(7613,)\n",
      "(7613,)\n",
      "(3263,)\n"
     ]
    }
   ],
   "source": [
    "print(train_x.shape)\n",
    "print(train_y.shape)\n",
    "print(test_x.shape)"
   ]
  },
  {
   "cell_type": "markdown",
   "id": "36ed6105",
   "metadata": {
    "papermill": {
     "duration": 0.006887,
     "end_time": "2024-12-08T17:34:45.599406",
     "exception": false,
     "start_time": "2024-12-08T17:34:45.592519",
     "status": "completed"
    },
    "tags": []
   },
   "source": [
    "# 3. Model Development "
   ]
  },
  {
   "cell_type": "code",
   "execution_count": 12,
   "id": "1e6f8508",
   "metadata": {
    "execution": {
     "iopub.execute_input": "2024-12-08T17:34:45.615776Z",
     "iopub.status.busy": "2024-12-08T17:34:45.614801Z",
     "iopub.status.idle": "2024-12-08T17:34:58.278814Z",
     "shell.execute_reply": "2024-12-08T17:34:58.277902Z"
    },
    "papermill": {
     "duration": 12.674745,
     "end_time": "2024-12-08T17:34:58.281220",
     "exception": false,
     "start_time": "2024-12-08T17:34:45.606475",
     "status": "completed"
    },
    "tags": []
   },
   "outputs": [],
   "source": [
    "import tensorflow as tf\n",
    "from tensorflow.keras import layers, models, optimizers, losses, metrics\n",
    "from tensorflow.keras.preprocessing import text, sequence"
   ]
  },
  {
   "cell_type": "code",
   "execution_count": 13,
   "id": "9efdab47",
   "metadata": {
    "execution": {
     "iopub.execute_input": "2024-12-08T17:34:58.298437Z",
     "iopub.status.busy": "2024-12-08T17:34:58.297443Z",
     "iopub.status.idle": "2024-12-08T17:34:58.647552Z",
     "shell.execute_reply": "2024-12-08T17:34:58.646428Z"
    },
    "papermill": {
     "duration": 0.361142,
     "end_time": "2024-12-08T17:34:58.650041",
     "exception": false,
     "start_time": "2024-12-08T17:34:58.288899",
     "status": "completed"
    },
    "tags": []
   },
   "outputs": [],
   "source": [
    "tokenizer = text.Tokenizer(num_words = 10000, oov_token = '<oov>')\n",
    "tokenizer.fit_on_texts(train_x)\n",
    "train_sequences = tokenizer.texts_to_sequences(train_x)\n",
    "train_pad_x = sequence.pad_sequences(train_sequences, maxlen= 20, truncating = 'post', padding = 'post')"
   ]
  },
  {
   "cell_type": "code",
   "execution_count": 14,
   "id": "636fc582",
   "metadata": {
    "execution": {
     "iopub.execute_input": "2024-12-08T17:34:58.666479Z",
     "iopub.status.busy": "2024-12-08T17:34:58.666069Z",
     "iopub.status.idle": "2024-12-08T17:34:58.734548Z",
     "shell.execute_reply": "2024-12-08T17:34:58.733418Z"
    },
    "papermill": {
     "duration": 0.0795,
     "end_time": "2024-12-08T17:34:58.737096",
     "exception": false,
     "start_time": "2024-12-08T17:34:58.657596",
     "status": "completed"
    },
    "tags": []
   },
   "outputs": [],
   "source": [
    "test_sequences = tokenizer.texts_to_sequences(test_x)\n",
    "test_pad_x = sequence.pad_sequences(test_sequences, maxlen = 20, padding = 'post', truncating = 'post')"
   ]
  },
  {
   "cell_type": "code",
   "execution_count": 15,
   "id": "cf0fe353",
   "metadata": {
    "execution": {
     "iopub.execute_input": "2024-12-08T17:34:58.753756Z",
     "iopub.status.busy": "2024-12-08T17:34:58.753032Z",
     "iopub.status.idle": "2024-12-08T17:34:58.757694Z",
     "shell.execute_reply": "2024-12-08T17:34:58.756726Z"
    },
    "papermill": {
     "duration": 0.01507,
     "end_time": "2024-12-08T17:34:58.759773",
     "exception": false,
     "start_time": "2024-12-08T17:34:58.744703",
     "status": "completed"
    },
    "tags": []
   },
   "outputs": [],
   "source": [
    "from tensorflow.keras import regularizers, callbacks"
   ]
  },
  {
   "cell_type": "code",
   "execution_count": 16,
   "id": "ec05bade",
   "metadata": {
    "execution": {
     "iopub.execute_input": "2024-12-08T17:34:58.776037Z",
     "iopub.status.busy": "2024-12-08T17:34:58.775628Z",
     "iopub.status.idle": "2024-12-08T17:34:58.783714Z",
     "shell.execute_reply": "2024-12-08T17:34:58.782695Z"
    },
    "papermill": {
     "duration": 0.018384,
     "end_time": "2024-12-08T17:34:58.785623",
     "exception": false,
     "start_time": "2024-12-08T17:34:58.767239",
     "status": "completed"
    },
    "tags": []
   },
   "outputs": [],
   "source": [
    "def Smodel(vocab_size, d_model):\n",
    "    inputs = layers.Input(shape= (None,))\n",
    "    x = layers.Embedding(vocab_size, d_model)(inputs)\n",
    "    x, fh, fc, bh, bc = layers.Bidirectional(layers.LSTM(16, return_sequences = True, return_state = True))(x)\n",
    "    h = layers.Concatenate()([fh, bh])\n",
    "    c = layers.Concatenate()([fc, bc])\n",
    "    x, h1, c1 = layers.LSTM(32, kernel_regularizer=regularizers.l2(0.1), return_state = True, return_sequences = True,\n",
    "                    bias_regularizer= regularizers.l2(0.2))(x, initial_state= [h, c]) \n",
    "    h11 = layers.Concatenate()([h, h1])\n",
    "    c11 = layers.Concatenate()([c, c1])\n",
    "    x = layers.LSTM(64, kernel_regularizer=regularizers.l2(0.1), bias_regularizer= regularizers.l2(0.2))(x, initial_state= [h11, c11]) \n",
    "    x = layers.Dense(64, activation= 'relu', kernel_regularizer=regularizers.l2(0.1), bias_regularizer= regularizers.l2(0.2))(x)\n",
    "    x = layers.Dropout(0.4)(x)\n",
    "    outputs = layers.Dense(1, activation = 'sigmoid')(x)\n",
    "    return models.Model(inputs = inputs, outputs = outputs)"
   ]
  },
  {
   "cell_type": "code",
   "execution_count": 17,
   "id": "9ff0e936",
   "metadata": {
    "execution": {
     "iopub.execute_input": "2024-12-08T17:34:58.801726Z",
     "iopub.status.busy": "2024-12-08T17:34:58.801313Z",
     "iopub.status.idle": "2024-12-08T17:34:58.806032Z",
     "shell.execute_reply": "2024-12-08T17:34:58.805015Z"
    },
    "papermill": {
     "duration": 0.015336,
     "end_time": "2024-12-08T17:34:58.808233",
     "exception": false,
     "start_time": "2024-12-08T17:34:58.792897",
     "status": "completed"
    },
    "tags": []
   },
   "outputs": [],
   "source": [
    "vocab_size = len(tokenizer.word_index) + 1\n",
    "d_model = 512"
   ]
  },
  {
   "cell_type": "code",
   "execution_count": 18,
   "id": "c87fcd03",
   "metadata": {
    "execution": {
     "iopub.execute_input": "2024-12-08T17:34:58.825837Z",
     "iopub.status.busy": "2024-12-08T17:34:58.825058Z",
     "iopub.status.idle": "2024-12-08T17:34:59.115491Z",
     "shell.execute_reply": "2024-12-08T17:34:59.114531Z"
    },
    "papermill": {
     "duration": 0.301844,
     "end_time": "2024-12-08T17:34:59.117970",
     "exception": false,
     "start_time": "2024-12-08T17:34:58.816126",
     "status": "completed"
    },
    "tags": []
   },
   "outputs": [],
   "source": [
    "model = Smodel(vocab_size, d_model)"
   ]
  },
  {
   "cell_type": "code",
   "execution_count": 19,
   "id": "5829b805",
   "metadata": {
    "execution": {
     "iopub.execute_input": "2024-12-08T17:34:59.139626Z",
     "iopub.status.busy": "2024-12-08T17:34:59.138868Z",
     "iopub.status.idle": "2024-12-08T17:34:59.155972Z",
     "shell.execute_reply": "2024-12-08T17:34:59.154798Z"
    },
    "papermill": {
     "duration": 0.028217,
     "end_time": "2024-12-08T17:34:59.158541",
     "exception": false,
     "start_time": "2024-12-08T17:34:59.130324",
     "status": "completed"
    },
    "tags": []
   },
   "outputs": [],
   "source": [
    "model.compile(optimizer = optimizers.Adam(learning_rate = 0.00005),\n",
    "             loss = losses.BinaryCrossentropy(),\n",
    "             metrics = ['accuracy'])"
   ]
  },
  {
   "cell_type": "code",
   "execution_count": 20,
   "id": "255aae5a",
   "metadata": {
    "execution": {
     "iopub.execute_input": "2024-12-08T17:34:59.175442Z",
     "iopub.status.busy": "2024-12-08T17:34:59.174628Z",
     "iopub.status.idle": "2024-12-08T17:37:05.164053Z",
     "shell.execute_reply": "2024-12-08T17:37:05.162938Z"
    },
    "papermill": {
     "duration": 126.00052,
     "end_time": "2024-12-08T17:37:05.166649",
     "exception": false,
     "start_time": "2024-12-08T17:34:59.166129",
     "status": "completed"
    },
    "tags": []
   },
   "outputs": [
    {
     "name": "stdout",
     "output_type": "stream",
     "text": [
      "Epoch 1/4\n",
      "\u001b[1m203/203\u001b[0m \u001b[32m━━━━━━━━━━━━━━━━━━━━\u001b[0m\u001b[37m\u001b[0m \u001b[1m37s\u001b[0m 149ms/step - accuracy: 0.5517 - loss: 36.2214 - val_accuracy: 0.5342 - val_loss: 33.9419\n",
      "Epoch 2/4\n",
      "\u001b[1m203/203\u001b[0m \u001b[32m━━━━━━━━━━━━━━━━━━━━\u001b[0m\u001b[37m\u001b[0m \u001b[1m29s\u001b[0m 145ms/step - accuracy: 0.5958 - loss: 33.2320 - val_accuracy: 0.6349 - val_loss: 31.2522\n",
      "Epoch 3/4\n",
      "\u001b[1m203/203\u001b[0m \u001b[32m━━━━━━━━━━━━━━━━━━━━\u001b[0m\u001b[37m\u001b[0m \u001b[1m30s\u001b[0m 145ms/step - accuracy: 0.7325 - loss: 30.5961 - val_accuracy: 0.7531 - val_loss: 28.8811\n",
      "Epoch 4/4\n",
      "\u001b[1m203/203\u001b[0m \u001b[32m━━━━━━━━━━━━━━━━━━━━\u001b[0m\u001b[37m\u001b[0m \u001b[1m30s\u001b[0m 146ms/step - accuracy: 0.8472 - loss: 28.2454 - val_accuracy: 0.7750 - val_loss: 26.8006\n"
     ]
    },
    {
     "data": {
      "text/plain": [
       "<keras.src.callbacks.history.History at 0x7a709fc71720>"
      ]
     },
     "execution_count": 20,
     "metadata": {},
     "output_type": "execute_result"
    }
   ],
   "source": [
    "model.fit(train_pad_x, train_y, validation_split= 0.15, epochs = 4, shuffle = True)"
   ]
  },
  {
   "cell_type": "markdown",
   "id": "173dccc9",
   "metadata": {
    "papermill": {
     "duration": 0.050717,
     "end_time": "2024-12-08T17:37:05.270649",
     "exception": false,
     "start_time": "2024-12-08T17:37:05.219932",
     "status": "completed"
    },
    "tags": []
   },
   "source": [
    "# 4. Inference "
   ]
  },
  {
   "cell_type": "code",
   "execution_count": 21,
   "id": "d4e0ec55",
   "metadata": {
    "execution": {
     "iopub.execute_input": "2024-12-08T17:37:05.374897Z",
     "iopub.status.busy": "2024-12-08T17:37:05.374518Z",
     "iopub.status.idle": "2024-12-08T17:37:07.617105Z",
     "shell.execute_reply": "2024-12-08T17:37:07.616198Z"
    },
    "papermill": {
     "duration": 2.297916,
     "end_time": "2024-12-08T17:37:07.619751",
     "exception": false,
     "start_time": "2024-12-08T17:37:05.321835",
     "status": "completed"
    },
    "tags": []
   },
   "outputs": [
    {
     "name": "stdout",
     "output_type": "stream",
     "text": [
      "\u001b[1m102/102\u001b[0m \u001b[32m━━━━━━━━━━━━━━━━━━━━\u001b[0m\u001b[37m\u001b[0m \u001b[1m2s\u001b[0m 16ms/step\n"
     ]
    }
   ],
   "source": [
    "predict = model.predict(test_pad_x)"
   ]
  },
  {
   "cell_type": "code",
   "execution_count": 22,
   "id": "7240ea8e",
   "metadata": {
    "execution": {
     "iopub.execute_input": "2024-12-08T17:37:07.726947Z",
     "iopub.status.busy": "2024-12-08T17:37:07.726532Z",
     "iopub.status.idle": "2024-12-08T17:37:07.731457Z",
     "shell.execute_reply": "2024-12-08T17:37:07.730442Z"
    },
    "papermill": {
     "duration": 0.061321,
     "end_time": "2024-12-08T17:37:07.733438",
     "exception": false,
     "start_time": "2024-12-08T17:37:07.672117",
     "status": "completed"
    },
    "tags": []
   },
   "outputs": [],
   "source": [
    "predict = (predict > 0.5).astype('int')"
   ]
  },
  {
   "cell_type": "code",
   "execution_count": 23,
   "id": "2a48df74",
   "metadata": {
    "execution": {
     "iopub.execute_input": "2024-12-08T17:37:07.847158Z",
     "iopub.status.busy": "2024-12-08T17:37:07.846255Z",
     "iopub.status.idle": "2024-12-08T17:37:07.860570Z",
     "shell.execute_reply": "2024-12-08T17:37:07.859547Z"
    },
    "papermill": {
     "duration": 0.074982,
     "end_time": "2024-12-08T17:37:07.862741",
     "exception": false,
     "start_time": "2024-12-08T17:37:07.787759",
     "status": "completed"
    },
    "tags": []
   },
   "outputs": [
    {
     "data": {
      "text/html": [
       "<div>\n",
       "<style scoped>\n",
       "    .dataframe tbody tr th:only-of-type {\n",
       "        vertical-align: middle;\n",
       "    }\n",
       "\n",
       "    .dataframe tbody tr th {\n",
       "        vertical-align: top;\n",
       "    }\n",
       "\n",
       "    .dataframe thead th {\n",
       "        text-align: right;\n",
       "    }\n",
       "</style>\n",
       "<table border=\"1\" class=\"dataframe\">\n",
       "  <thead>\n",
       "    <tr style=\"text-align: right;\">\n",
       "      <th></th>\n",
       "      <th>id</th>\n",
       "      <th>target</th>\n",
       "    </tr>\n",
       "  </thead>\n",
       "  <tbody>\n",
       "    <tr>\n",
       "      <th>0</th>\n",
       "      <td>0</td>\n",
       "      <td>0</td>\n",
       "    </tr>\n",
       "    <tr>\n",
       "      <th>1</th>\n",
       "      <td>2</td>\n",
       "      <td>0</td>\n",
       "    </tr>\n",
       "    <tr>\n",
       "      <th>2</th>\n",
       "      <td>3</td>\n",
       "      <td>0</td>\n",
       "    </tr>\n",
       "    <tr>\n",
       "      <th>3</th>\n",
       "      <td>9</td>\n",
       "      <td>0</td>\n",
       "    </tr>\n",
       "    <tr>\n",
       "      <th>4</th>\n",
       "      <td>11</td>\n",
       "      <td>0</td>\n",
       "    </tr>\n",
       "    <tr>\n",
       "      <th>...</th>\n",
       "      <td>...</td>\n",
       "      <td>...</td>\n",
       "    </tr>\n",
       "    <tr>\n",
       "      <th>3258</th>\n",
       "      <td>10861</td>\n",
       "      <td>0</td>\n",
       "    </tr>\n",
       "    <tr>\n",
       "      <th>3259</th>\n",
       "      <td>10865</td>\n",
       "      <td>0</td>\n",
       "    </tr>\n",
       "    <tr>\n",
       "      <th>3260</th>\n",
       "      <td>10868</td>\n",
       "      <td>0</td>\n",
       "    </tr>\n",
       "    <tr>\n",
       "      <th>3261</th>\n",
       "      <td>10874</td>\n",
       "      <td>0</td>\n",
       "    </tr>\n",
       "    <tr>\n",
       "      <th>3262</th>\n",
       "      <td>10875</td>\n",
       "      <td>0</td>\n",
       "    </tr>\n",
       "  </tbody>\n",
       "</table>\n",
       "<p>3263 rows × 2 columns</p>\n",
       "</div>"
      ],
      "text/plain": [
       "         id  target\n",
       "0         0       0\n",
       "1         2       0\n",
       "2         3       0\n",
       "3         9       0\n",
       "4        11       0\n",
       "...     ...     ...\n",
       "3258  10861       0\n",
       "3259  10865       0\n",
       "3260  10868       0\n",
       "3261  10874       0\n",
       "3262  10875       0\n",
       "\n",
       "[3263 rows x 2 columns]"
      ]
     },
     "execution_count": 23,
     "metadata": {},
     "output_type": "execute_result"
    }
   ],
   "source": [
    "sample"
   ]
  },
  {
   "cell_type": "code",
   "execution_count": 24,
   "id": "6b0b053a",
   "metadata": {
    "execution": {
     "iopub.execute_input": "2024-12-08T17:37:08.032159Z",
     "iopub.status.busy": "2024-12-08T17:37:08.031175Z",
     "iopub.status.idle": "2024-12-08T17:37:08.037494Z",
     "shell.execute_reply": "2024-12-08T17:37:08.036450Z"
    },
    "papermill": {
     "duration": 0.063939,
     "end_time": "2024-12-08T17:37:08.039873",
     "exception": false,
     "start_time": "2024-12-08T17:37:07.975934",
     "status": "completed"
    },
    "tags": []
   },
   "outputs": [
    {
     "data": {
      "text/plain": [
       "3263"
      ]
     },
     "execution_count": 24,
     "metadata": {},
     "output_type": "execute_result"
    }
   ],
   "source": [
    "len(predict)"
   ]
  },
  {
   "cell_type": "code",
   "execution_count": 25,
   "id": "ad346c76",
   "metadata": {
    "execution": {
     "iopub.execute_input": "2024-12-08T17:37:08.152716Z",
     "iopub.status.busy": "2024-12-08T17:37:08.152291Z",
     "iopub.status.idle": "2024-12-08T17:37:08.166299Z",
     "shell.execute_reply": "2024-12-08T17:37:08.165254Z"
    },
    "papermill": {
     "duration": 0.072605,
     "end_time": "2024-12-08T17:37:08.168336",
     "exception": false,
     "start_time": "2024-12-08T17:37:08.095731",
     "status": "completed"
    },
    "tags": []
   },
   "outputs": [
    {
     "data": {
      "text/html": [
       "<div>\n",
       "<style scoped>\n",
       "    .dataframe tbody tr th:only-of-type {\n",
       "        vertical-align: middle;\n",
       "    }\n",
       "\n",
       "    .dataframe tbody tr th {\n",
       "        vertical-align: top;\n",
       "    }\n",
       "\n",
       "    .dataframe thead th {\n",
       "        text-align: right;\n",
       "    }\n",
       "</style>\n",
       "<table border=\"1\" class=\"dataframe\">\n",
       "  <thead>\n",
       "    <tr style=\"text-align: right;\">\n",
       "      <th></th>\n",
       "      <th>id</th>\n",
       "      <th>keyword</th>\n",
       "      <th>location</th>\n",
       "      <th>text</th>\n",
       "    </tr>\n",
       "  </thead>\n",
       "  <tbody>\n",
       "    <tr>\n",
       "      <th>0</th>\n",
       "      <td>0</td>\n",
       "      <td>NaN</td>\n",
       "      <td>NaN</td>\n",
       "      <td>Just happened a terrible car crash</td>\n",
       "    </tr>\n",
       "    <tr>\n",
       "      <th>1</th>\n",
       "      <td>2</td>\n",
       "      <td>NaN</td>\n",
       "      <td>NaN</td>\n",
       "      <td>Heard about #earthquake is different cities, s...</td>\n",
       "    </tr>\n",
       "    <tr>\n",
       "      <th>2</th>\n",
       "      <td>3</td>\n",
       "      <td>NaN</td>\n",
       "      <td>NaN</td>\n",
       "      <td>there is a forest fire at spot pond, geese are...</td>\n",
       "    </tr>\n",
       "    <tr>\n",
       "      <th>3</th>\n",
       "      <td>9</td>\n",
       "      <td>NaN</td>\n",
       "      <td>NaN</td>\n",
       "      <td>Apocalypse lighting. #Spokane #wildfires</td>\n",
       "    </tr>\n",
       "    <tr>\n",
       "      <th>4</th>\n",
       "      <td>11</td>\n",
       "      <td>NaN</td>\n",
       "      <td>NaN</td>\n",
       "      <td>Typhoon Soudelor kills 28 in China and Taiwan</td>\n",
       "    </tr>\n",
       "    <tr>\n",
       "      <th>...</th>\n",
       "      <td>...</td>\n",
       "      <td>...</td>\n",
       "      <td>...</td>\n",
       "      <td>...</td>\n",
       "    </tr>\n",
       "    <tr>\n",
       "      <th>3258</th>\n",
       "      <td>10861</td>\n",
       "      <td>NaN</td>\n",
       "      <td>NaN</td>\n",
       "      <td>EARTHQUAKE SAFETY LOS ANGELES ÛÒ SAFETY FASTE...</td>\n",
       "    </tr>\n",
       "    <tr>\n",
       "      <th>3259</th>\n",
       "      <td>10865</td>\n",
       "      <td>NaN</td>\n",
       "      <td>NaN</td>\n",
       "      <td>Storm in RI worse than last hurricane. My city...</td>\n",
       "    </tr>\n",
       "    <tr>\n",
       "      <th>3260</th>\n",
       "      <td>10868</td>\n",
       "      <td>NaN</td>\n",
       "      <td>NaN</td>\n",
       "      <td>Green Line derailment in Chicago http://t.co/U...</td>\n",
       "    </tr>\n",
       "    <tr>\n",
       "      <th>3261</th>\n",
       "      <td>10874</td>\n",
       "      <td>NaN</td>\n",
       "      <td>NaN</td>\n",
       "      <td>MEG issues Hazardous Weather Outlook (HWO) htt...</td>\n",
       "    </tr>\n",
       "    <tr>\n",
       "      <th>3262</th>\n",
       "      <td>10875</td>\n",
       "      <td>NaN</td>\n",
       "      <td>NaN</td>\n",
       "      <td>#CityofCalgary has activated its Municipal Eme...</td>\n",
       "    </tr>\n",
       "  </tbody>\n",
       "</table>\n",
       "<p>3263 rows × 4 columns</p>\n",
       "</div>"
      ],
      "text/plain": [
       "         id keyword location  \\\n",
       "0         0     NaN      NaN   \n",
       "1         2     NaN      NaN   \n",
       "2         3     NaN      NaN   \n",
       "3         9     NaN      NaN   \n",
       "4        11     NaN      NaN   \n",
       "...     ...     ...      ...   \n",
       "3258  10861     NaN      NaN   \n",
       "3259  10865     NaN      NaN   \n",
       "3260  10868     NaN      NaN   \n",
       "3261  10874     NaN      NaN   \n",
       "3262  10875     NaN      NaN   \n",
       "\n",
       "                                                   text  \n",
       "0                    Just happened a terrible car crash  \n",
       "1     Heard about #earthquake is different cities, s...  \n",
       "2     there is a forest fire at spot pond, geese are...  \n",
       "3              Apocalypse lighting. #Spokane #wildfires  \n",
       "4         Typhoon Soudelor kills 28 in China and Taiwan  \n",
       "...                                                 ...  \n",
       "3258  EARTHQUAKE SAFETY LOS ANGELES ÛÒ SAFETY FASTE...  \n",
       "3259  Storm in RI worse than last hurricane. My city...  \n",
       "3260  Green Line derailment in Chicago http://t.co/U...  \n",
       "3261  MEG issues Hazardous Weather Outlook (HWO) htt...  \n",
       "3262  #CityofCalgary has activated its Municipal Eme...  \n",
       "\n",
       "[3263 rows x 4 columns]"
      ]
     },
     "execution_count": 25,
     "metadata": {},
     "output_type": "execute_result"
    }
   ],
   "source": [
    "test"
   ]
  },
  {
   "cell_type": "markdown",
   "id": "4f2f61cc",
   "metadata": {
    "papermill": {
     "duration": 0.054868,
     "end_time": "2024-12-08T17:37:08.279474",
     "exception": false,
     "start_time": "2024-12-08T17:37:08.224606",
     "status": "completed"
    },
    "tags": []
   },
   "source": [
    "# 5. Submission"
   ]
  },
  {
   "cell_type": "code",
   "execution_count": 26,
   "id": "945ae1eb",
   "metadata": {
    "execution": {
     "iopub.execute_input": "2024-12-08T17:37:08.390093Z",
     "iopub.status.busy": "2024-12-08T17:37:08.389722Z",
     "iopub.status.idle": "2024-12-08T17:37:08.395336Z",
     "shell.execute_reply": "2024-12-08T17:37:08.394325Z"
    },
    "papermill": {
     "duration": 0.064161,
     "end_time": "2024-12-08T17:37:08.397306",
     "exception": false,
     "start_time": "2024-12-08T17:37:08.333145",
     "status": "completed"
    },
    "tags": []
   },
   "outputs": [],
   "source": [
    "import copy\n",
    "test1 = copy.deepcopy(test)"
   ]
  },
  {
   "cell_type": "code",
   "execution_count": 27,
   "id": "05956dda",
   "metadata": {
    "execution": {
     "iopub.execute_input": "2024-12-08T17:37:08.507913Z",
     "iopub.status.busy": "2024-12-08T17:37:08.507534Z",
     "iopub.status.idle": "2024-12-08T17:37:08.513302Z",
     "shell.execute_reply": "2024-12-08T17:37:08.512275Z"
    },
    "papermill": {
     "duration": 0.06361,
     "end_time": "2024-12-08T17:37:08.515319",
     "exception": false,
     "start_time": "2024-12-08T17:37:08.451709",
     "status": "completed"
    },
    "tags": []
   },
   "outputs": [],
   "source": [
    "test1['target'] = predict\n"
   ]
  },
  {
   "cell_type": "code",
   "execution_count": 28,
   "id": "4a31e6aa",
   "metadata": {
    "execution": {
     "iopub.execute_input": "2024-12-08T17:37:08.627867Z",
     "iopub.status.busy": "2024-12-08T17:37:08.627420Z",
     "iopub.status.idle": "2024-12-08T17:37:08.640303Z",
     "shell.execute_reply": "2024-12-08T17:37:08.639179Z"
    },
    "papermill": {
     "duration": 0.071585,
     "end_time": "2024-12-08T17:37:08.642466",
     "exception": false,
     "start_time": "2024-12-08T17:37:08.570881",
     "status": "completed"
    },
    "tags": []
   },
   "outputs": [
    {
     "data": {
      "text/html": [
       "<div>\n",
       "<style scoped>\n",
       "    .dataframe tbody tr th:only-of-type {\n",
       "        vertical-align: middle;\n",
       "    }\n",
       "\n",
       "    .dataframe tbody tr th {\n",
       "        vertical-align: top;\n",
       "    }\n",
       "\n",
       "    .dataframe thead th {\n",
       "        text-align: right;\n",
       "    }\n",
       "</style>\n",
       "<table border=\"1\" class=\"dataframe\">\n",
       "  <thead>\n",
       "    <tr style=\"text-align: right;\">\n",
       "      <th></th>\n",
       "      <th>id</th>\n",
       "      <th>keyword</th>\n",
       "      <th>location</th>\n",
       "      <th>text</th>\n",
       "      <th>target</th>\n",
       "    </tr>\n",
       "  </thead>\n",
       "  <tbody>\n",
       "    <tr>\n",
       "      <th>0</th>\n",
       "      <td>0</td>\n",
       "      <td>NaN</td>\n",
       "      <td>NaN</td>\n",
       "      <td>Just happened a terrible car crash</td>\n",
       "      <td>1</td>\n",
       "    </tr>\n",
       "    <tr>\n",
       "      <th>1</th>\n",
       "      <td>2</td>\n",
       "      <td>NaN</td>\n",
       "      <td>NaN</td>\n",
       "      <td>Heard about #earthquake is different cities, s...</td>\n",
       "      <td>0</td>\n",
       "    </tr>\n",
       "    <tr>\n",
       "      <th>2</th>\n",
       "      <td>3</td>\n",
       "      <td>NaN</td>\n",
       "      <td>NaN</td>\n",
       "      <td>there is a forest fire at spot pond, geese are...</td>\n",
       "      <td>1</td>\n",
       "    </tr>\n",
       "    <tr>\n",
       "      <th>3</th>\n",
       "      <td>9</td>\n",
       "      <td>NaN</td>\n",
       "      <td>NaN</td>\n",
       "      <td>Apocalypse lighting. #Spokane #wildfires</td>\n",
       "      <td>0</td>\n",
       "    </tr>\n",
       "    <tr>\n",
       "      <th>4</th>\n",
       "      <td>11</td>\n",
       "      <td>NaN</td>\n",
       "      <td>NaN</td>\n",
       "      <td>Typhoon Soudelor kills 28 in China and Taiwan</td>\n",
       "      <td>1</td>\n",
       "    </tr>\n",
       "  </tbody>\n",
       "</table>\n",
       "</div>"
      ],
      "text/plain": [
       "   id keyword location                                               text  \\\n",
       "0   0     NaN      NaN                 Just happened a terrible car crash   \n",
       "1   2     NaN      NaN  Heard about #earthquake is different cities, s...   \n",
       "2   3     NaN      NaN  there is a forest fire at spot pond, geese are...   \n",
       "3   9     NaN      NaN           Apocalypse lighting. #Spokane #wildfires   \n",
       "4  11     NaN      NaN      Typhoon Soudelor kills 28 in China and Taiwan   \n",
       "\n",
       "   target  \n",
       "0       1  \n",
       "1       0  \n",
       "2       1  \n",
       "3       0  \n",
       "4       1  "
      ]
     },
     "execution_count": 28,
     "metadata": {},
     "output_type": "execute_result"
    }
   ],
   "source": [
    "test1.head()"
   ]
  },
  {
   "cell_type": "code",
   "execution_count": 29,
   "id": "2d3f6e99",
   "metadata": {
    "execution": {
     "iopub.execute_input": "2024-12-08T17:37:08.752676Z",
     "iopub.status.busy": "2024-12-08T17:37:08.752225Z",
     "iopub.status.idle": "2024-12-08T17:37:08.762999Z",
     "shell.execute_reply": "2024-12-08T17:37:08.761911Z"
    },
    "papermill": {
     "duration": 0.068609,
     "end_time": "2024-12-08T17:37:08.765076",
     "exception": false,
     "start_time": "2024-12-08T17:37:08.696467",
     "status": "completed"
    },
    "tags": []
   },
   "outputs": [
    {
     "data": {
      "text/html": [
       "<div>\n",
       "<style scoped>\n",
       "    .dataframe tbody tr th:only-of-type {\n",
       "        vertical-align: middle;\n",
       "    }\n",
       "\n",
       "    .dataframe tbody tr th {\n",
       "        vertical-align: top;\n",
       "    }\n",
       "\n",
       "    .dataframe thead th {\n",
       "        text-align: right;\n",
       "    }\n",
       "</style>\n",
       "<table border=\"1\" class=\"dataframe\">\n",
       "  <thead>\n",
       "    <tr style=\"text-align: right;\">\n",
       "      <th></th>\n",
       "      <th>id</th>\n",
       "      <th>target</th>\n",
       "    </tr>\n",
       "  </thead>\n",
       "  <tbody>\n",
       "    <tr>\n",
       "      <th>0</th>\n",
       "      <td>0</td>\n",
       "      <td>1</td>\n",
       "    </tr>\n",
       "    <tr>\n",
       "      <th>1</th>\n",
       "      <td>2</td>\n",
       "      <td>0</td>\n",
       "    </tr>\n",
       "    <tr>\n",
       "      <th>2</th>\n",
       "      <td>3</td>\n",
       "      <td>1</td>\n",
       "    </tr>\n",
       "    <tr>\n",
       "      <th>3</th>\n",
       "      <td>9</td>\n",
       "      <td>0</td>\n",
       "    </tr>\n",
       "    <tr>\n",
       "      <th>4</th>\n",
       "      <td>11</td>\n",
       "      <td>1</td>\n",
       "    </tr>\n",
       "  </tbody>\n",
       "</table>\n",
       "</div>"
      ],
      "text/plain": [
       "   id  target\n",
       "0   0       1\n",
       "1   2       0\n",
       "2   3       1\n",
       "3   9       0\n",
       "4  11       1"
      ]
     },
     "execution_count": 29,
     "metadata": {},
     "output_type": "execute_result"
    }
   ],
   "source": [
    "test1.drop(columns = ['keyword', 'location', 'text'], inplace = True)\n",
    "test1.head()"
   ]
  },
  {
   "cell_type": "code",
   "execution_count": 30,
   "id": "53d09730",
   "metadata": {
    "execution": {
     "iopub.execute_input": "2024-12-08T17:37:08.878589Z",
     "iopub.status.busy": "2024-12-08T17:37:08.878142Z",
     "iopub.status.idle": "2024-12-08T17:37:08.884399Z",
     "shell.execute_reply": "2024-12-08T17:37:08.883246Z"
    },
    "papermill": {
     "duration": 0.066141,
     "end_time": "2024-12-08T17:37:08.886358",
     "exception": false,
     "start_time": "2024-12-08T17:37:08.820217",
     "status": "completed"
    },
    "tags": []
   },
   "outputs": [],
   "source": [
    "test1 = test1[['id', 'target']]"
   ]
  },
  {
   "cell_type": "code",
   "execution_count": 31,
   "id": "e914c2f2",
   "metadata": {
    "execution": {
     "iopub.execute_input": "2024-12-08T17:37:08.997158Z",
     "iopub.status.busy": "2024-12-08T17:37:08.996740Z",
     "iopub.status.idle": "2024-12-08T17:37:09.007448Z",
     "shell.execute_reply": "2024-12-08T17:37:09.006544Z"
    },
    "papermill": {
     "duration": 0.069125,
     "end_time": "2024-12-08T17:37:09.009567",
     "exception": false,
     "start_time": "2024-12-08T17:37:08.940442",
     "status": "completed"
    },
    "tags": []
   },
   "outputs": [],
   "source": [
    "test1.to_csv('results.csv', index = False)"
   ]
  },
  {
   "cell_type": "code",
   "execution_count": null,
   "id": "9099860d",
   "metadata": {
    "papermill": {
     "duration": 0.054958,
     "end_time": "2024-12-08T17:37:09.119543",
     "exception": false,
     "start_time": "2024-12-08T17:37:09.064585",
     "status": "completed"
    },
    "tags": []
   },
   "outputs": [],
   "source": []
  }
 ],
 "metadata": {
  "kaggle": {
   "accelerator": "none",
   "dataSources": [
    {
     "databundleVersionId": 869809,
     "sourceId": 17777,
     "sourceType": "competition"
    }
   ],
   "dockerImageVersionId": 30786,
   "isGpuEnabled": false,
   "isInternetEnabled": true,
   "language": "python",
   "sourceType": "notebook"
  },
  "kernelspec": {
   "display_name": "Python 3",
   "language": "python",
   "name": "python3"
  },
  "language_info": {
   "codemirror_mode": {
    "name": "ipython",
    "version": 3
   },
   "file_extension": ".py",
   "mimetype": "text/x-python",
   "name": "python",
   "nbconvert_exporter": "python",
   "pygments_lexer": "ipython3",
   "version": "3.10.14"
  },
  "papermill": {
   "default_parameters": {},
   "duration": 149.439935,
   "end_time": "2024-12-08T17:37:10.999688",
   "environment_variables": {},
   "exception": null,
   "input_path": "__notebook__.ipynb",
   "output_path": "__notebook__.ipynb",
   "parameters": {},
   "start_time": "2024-12-08T17:34:41.559753",
   "version": "2.6.0"
  }
 },
 "nbformat": 4,
 "nbformat_minor": 5
}
